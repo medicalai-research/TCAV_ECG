{
 "cells": [
  {
   "cell_type": "markdown",
   "id": "0138c0ba",
   "metadata": {},
   "source": [
    "# Prepare Data"
   ]
  },
  {
   "cell_type": "markdown",
   "id": "02bb10f0",
   "metadata": {},
   "source": [
    "## Physionet Challenge Dataset\n",
    "- https://medicalai.atlassian.net/wiki/spaces/AT/pages/252379174/Physionet+Label"
   ]
  },
  {
   "cell_type": "code",
   "execution_count": null,
   "id": "f1b70390",
   "metadata": {
    "ExecuteTime": {
     "end_time": "2023-11-03T02:35:31.126404Z",
     "start_time": "2023-11-03T02:35:30.475627Z"
    }
   },
   "outputs": [],
   "source": [
    "import pandas as pd\n",
    "import matplotlib.pyplot as plt\n",
    "import numpy as np"
   ]
  },
  {
   "cell_type": "code",
   "execution_count": null,
   "id": "18a1b85a",
   "metadata": {
    "ExecuteTime": {
     "end_time": "2023-11-03T02:35:31.132747Z",
     "start_time": "2023-11-03T02:35:31.129458Z"
    }
   },
   "outputs": [],
   "source": [
    "import sys\n",
    "sys.path.append('.')"
   ]
  },
  {
   "cell_type": "code",
   "execution_count": null,
   "id": "4c899113",
   "metadata": {
    "ExecuteTime": {
     "end_time": "2023-11-03T02:35:32.843266Z",
     "start_time": "2023-11-03T02:35:31.134549Z"
    }
   },
   "outputs": [],
   "source": [
    "%load_ext autoreload\n",
    "%autoreload 2\n",
    "\n",
    "from tcav import *"
   ]
  },
  {
   "cell_type": "code",
   "execution_count": null,
   "id": "20479e17",
   "metadata": {
    "ExecuteTime": {
     "end_time": "2023-11-03T02:35:33.100254Z",
     "start_time": "2023-11-03T02:35:32.846775Z"
    }
   },
   "outputs": [],
   "source": [
    "physionet_df = pd.read_csv(\"/bfai/nfs_export/workspace/share/labels/physionet2021/physionet2021_total.csv\")"
   ]
  },
  {
   "cell_type": "code",
   "execution_count": null,
   "id": "44d42cb5",
   "metadata": {
    "ExecuteTime": {
     "end_time": "2023-11-03T02:35:33.138492Z",
     "start_time": "2023-11-03T02:35:33.102690Z"
    }
   },
   "outputs": [],
   "source": [
    "physionet_df.source.value_counts()"
   ]
  },
  {
   "cell_type": "code",
   "execution_count": null,
   "id": "1e6a5167",
   "metadata": {
    "ExecuteTime": {
     "end_time": "2023-11-03T02:35:33.161477Z",
     "start_time": "2023-11-03T02:35:33.140903Z"
    }
   },
   "outputs": [],
   "source": [
    "label_list = [\n",
    "    \"atrial fibrillation\",\n",
    "    \"atrial flutter\",\n",
    "    \"bundle branch block\",\n",
    "    \"bradycardia\",\n",
    "    \"complete left bundle branch block, left bundle...\", #\n",
    "    \"complete right bundle branch block, right bund...\",\n",
    "    \"1st degree av block\",\n",
    "    \"incomplete right bundle branch block\",\n",
    "    \"left axis deviation\", \n",
    "    \"left anterior fascicular block\",\n",
    "    \"prolonged pr interval\",\n",
    "    \"low qrs voltages\",\n",
    "    \"prolonged qt interval\",\n",
    "    \"nonspecific intraventricular conduction disorder\",\n",
    "    \"sinus rhythm\", #\n",
    "    \"premature atrial contraction, supraventricular...\",\n",
    "    \"pacing rhythm\",\n",
    "    \"poor R wave Progression\",\n",
    "    \"premature ventricular contractions, ventricula...\",\n",
    "    \"qwave abnormal\", #\n",
    "    \"right axis deviation\",\n",
    "    \"sinus arrhythmia\",\n",
    "    \"sinus bradycardia\",\n",
    "    \"sinus tachycardia\",\n",
    "    \"t wave abnormal\", #\n",
    "    \"t wave inversion\"\n",
    "]\n",
    "\n"
   ]
  },
  {
   "cell_type": "markdown",
   "id": "f6022749",
   "metadata": {},
   "source": [
    "## add sublabel"
   ]
  },
  {
   "cell_type": "code",
   "execution_count": null,
   "id": "4b1715e4",
   "metadata": {
    "ExecuteTime": {
     "end_time": "2023-11-03T02:35:33.184546Z",
     "start_time": "2023-11-03T02:35:33.163518Z"
    }
   },
   "outputs": [],
   "source": [
    "physionet_df['26'] = physionet_df['0'] | physionet_df['1']\n",
    "label_list.append(\"atrial fibrillation+atrial flutter\")\n",
    "\n",
    "physionet_df['27'] = physionet_df['24'] | physionet_df['25']\n",
    "label_list.append(\"t wave abnormal + t wave inversion \")\n"
   ]
  },
  {
   "cell_type": "code",
   "execution_count": null,
   "id": "ff89efb9",
   "metadata": {
    "ExecuteTime": {
     "end_time": "2023-11-03T02:35:33.205408Z",
     "start_time": "2023-11-03T02:35:33.186549Z"
    }
   },
   "outputs": [],
   "source": [
    "label_list = np.array(label_list)\n",
    "for idx,label_name in enumerate(label_list):\n",
    "    print(idx, label_name)"
   ]
  },
  {
   "cell_type": "code",
   "execution_count": null,
   "id": "53f83b5c",
   "metadata": {
    "ExecuteTime": {
     "end_time": "2023-11-03T02:35:33.227405Z",
     "start_time": "2023-11-03T02:35:33.207966Z"
    }
   },
   "outputs": [],
   "source": [
    "label_list[[26,4,5,8,20,12,13,19,27]]"
   ]
  },
  {
   "cell_type": "code",
   "execution_count": null,
   "id": "94c8f425",
   "metadata": {
    "ExecuteTime": {
     "end_time": "2023-11-03T02:35:33.250367Z",
     "start_time": "2023-11-03T02:35:33.231393Z"
    }
   },
   "outputs": [],
   "source": [
    "hist_label_list = label_list[:]"
   ]
  },
  {
   "cell_type": "code",
   "execution_count": null,
   "id": "5e8a66e5",
   "metadata": {
    "ExecuteTime": {
     "end_time": "2023-11-03T02:35:33.289584Z",
     "start_time": "2023-11-03T02:35:33.252332Z"
    }
   },
   "outputs": [],
   "source": [
    "label_dist = np.array(physionet_df[[str(i) for i in range(len(hist_label_list))]].sum().tolist())"
   ]
  },
  {
   "cell_type": "code",
   "execution_count": null,
   "id": "b5a822af",
   "metadata": {
    "ExecuteTime": {
     "end_time": "2023-11-03T02:35:33.312564Z",
     "start_time": "2023-11-03T02:35:33.292029Z"
    }
   },
   "outputs": [],
   "source": [
    "order_idx_list = np.argsort(label_dist)"
   ]
  },
  {
   "cell_type": "code",
   "execution_count": null,
   "id": "92056399",
   "metadata": {
    "ExecuteTime": {
     "end_time": "2023-11-03T02:35:33.676588Z",
     "start_time": "2023-11-03T02:35:33.314723Z"
    }
   },
   "outputs": [],
   "source": [
    "import matplotlib.pyplot as plt\n",
    "\n",
    "# Assume you have these two lists\n",
    "labels = hist_label_list[order_idx_list]\n",
    "counts = label_dist[order_idx_list]\n",
    "\n",
    "plt.figure(figsize=(10, 6))  # Optional: You can adjust the size of the figure\n",
    "\n",
    "plt.bar(range(len(labels)), counts, color='skyblue', edgecolor='black')\n",
    "\n",
    "plt.xticks(range(len(labels)), labels, rotation=270)\n",
    "\n",
    "plt.title('Physionet label distribution')  # Title of the plot\n",
    "plt.xlabel('Labels')  # X-axis label\n",
    "plt.ylabel('Counts')  # Y-axis label\n",
    "\n",
    "plt.show()\n"
   ]
  },
  {
   "cell_type": "markdown",
   "id": "dde42aea",
   "metadata": {},
   "source": [
    "## get Concept\n",
    "- multilabel 데이터 중에서 label 명확히 1개 인것을 우선으로 추출하도록\n",
    "- 각 label 내에서 soruce_id의 분포가 최대한 동일하도록 \n",
    "- random control에서는 나머지 data에서 source_id 분포만 같도록 random 추출"
   ]
  },
  {
   "cell_type": "code",
   "execution_count": null,
   "id": "e3cd7ed2",
   "metadata": {
    "ExecuteTime": {
     "end_time": "2023-11-03T02:35:33.702031Z",
     "start_time": "2023-11-03T02:35:33.678962Z"
    }
   },
   "outputs": [],
   "source": [
    "from random import shuffle\n",
    "import random"
   ]
  },
  {
   "cell_type": "code",
   "execution_count": null,
   "id": "a7a8f699",
   "metadata": {
    "ExecuteTime": {
     "end_time": "2023-10-18T05:30:38.672244Z",
     "start_time": "2023-10-18T05:30:38.631603Z"
    }
   },
   "outputs": [],
   "source": []
  },
  {
   "cell_type": "code",
   "execution_count": null,
   "id": "66b64b58",
   "metadata": {
    "ExecuteTime": {
     "end_time": "2023-11-03T02:35:35.291468Z",
     "start_time": "2023-11-03T02:35:33.704332Z"
    }
   },
   "outputs": [],
   "source": [
    "selected_idx_list = sorted([4,26,5,8,20,12,13,19,27,21,22,23])#\n",
    "#selected_idx_list = sorted([6,9,15])#\n",
    "\n",
    "random_concept_n:int = 10 #random concept를 몇개나 만들지 \n",
    "sample_n = 200\n",
    "random_seed = 777\n",
    "\n",
    "concept_oid_dict = dict()\n",
    "\n",
    "total_oid_set= set(physionet_df.objectid.tolist()) #\n",
    "control_oid_set = set(physionet_df.objectid.tolist()) #random control oid pool: \n",
    "\n",
    "for idx in np.argsort(label_dist[selected_idx_list]): #갯수가 적은 label부터\n",
    "    select_idx = selected_idx_list[idx]\n",
    "    name = label_list[select_idx]\n",
    "    print(name)\n",
    "    \n",
    "    target_df = physionet_df[physionet_df[str(select_idx)]==1].copy()\n",
    "    target_df['count'] = target_df[[str(i) for i in range(len(label_list))]].sum(axis=1).tolist()\n",
    "        \n",
    "    exist_oid_df = pd.DataFrame(total_oid_set,columns=['objectid'])\n",
    "    target_df = pd.merge(target_df,exist_oid_df,on='objectid',how='inner')\n",
    "\n",
    "    random.seed(random_seed)\n",
    "    random_number = list(range(len(target_df)))\n",
    "    shuffle(random_number)\n",
    "    target_df['random_seed'] = random_number\n",
    "    \n",
    "    source_list = target_df.source.value_counts(ascending=True).index.tolist()\n",
    "    source_sample_list = list()\n",
    "    \n",
    "    remain_n = sample_n\n",
    "    each_n = int(sample_n/len(source_list))\n",
    "    \n",
    "    for i,source in enumerate(source_list):\n",
    "        \n",
    "        source_sample_df = target_df[target_df.source==source]\n",
    "        if i==len(source_list)-1:\n",
    "            target_sample_df = source_sample_df.sort_values(['count','random_seed']).head(remain_n)\n",
    "        else:\n",
    "            target_sample_df = source_sample_df.sort_values(['count','random_seed']).head(each_n)\n",
    "            remain_n -=len(target_sample_df)\n",
    "        print(name,source,target_sample_df.shape)\n",
    "        source_sample_list.append(target_sample_df)\n",
    "    \n",
    "    target_sample_df = pd.concat(source_sample_list)\n",
    "    oid_list= target_sample_df.objectid.tolist()\n",
    "    concept_oid_dict[name] = target_sample_df\n",
    "    \n",
    "    total_oid_set = total_oid_set-set(oid_list)\n",
    "    control_oid_set = control_oid_set-set(target_df.objectid.tolist())\n",
    "    \n",
    "    \n",
    "    if len(oid_list)<sample_n:\n",
    "        print(f\"[Caution]{name} label is insufficient, file_n: {len(oid_list)}\")\n",
    "    else:\n",
    "        print(f\"[Success]{name} label is prepared, sample_n: {len(oid_list)}\")\n",
    "\n",
    "remain_n = sample_n\n",
    "for random_idx in range(random_concept_n):\n",
    "    random_sample_df = pd.DataFrame(list(control_oid_set),columns=['objectid'])\n",
    "    random_sample_df = pd.merge(random_sample_df,physionet_df,on='objectid',how='inner')\n",
    "    \n",
    "    each_n = int(sample_n/len(random_sample_df.source.unique()))\n",
    "    \n",
    "    random_sample_df = random_sample_df.groupby('source').sample(each_n,random_state=random_seed)\n",
    "    \n",
    "    concept_oid_dict[f\"random_concept_{random_idx}\"] = random_sample_df\n",
    "        \n",
    "    print(f\"[Success] random{random_idx} label is prepared, sample_n: {len(oid_list)}\")\n",
    "    "
   ]
  },
  {
   "cell_type": "code",
   "execution_count": null,
   "id": "9eb48973",
   "metadata": {},
   "outputs": [],
   "source": []
  },
  {
   "cell_type": "code",
   "execution_count": null,
   "id": "0d33e337",
   "metadata": {
    "ExecuteTime": {
     "end_time": "2023-11-03T02:35:35.392692Z",
     "start_time": "2023-11-03T02:35:35.295679Z"
    }
   },
   "outputs": [],
   "source": [
    "random_sample_df = pd.DataFrame(list(control_oid_set),columns=['objectid'])\n",
    "random_sample_df = pd.merge(random_sample_df,physionet_df,on='objectid',how='inner')\n",
    "print(random_sample_df.shape)\n",
    "for col in selected_idx_list:\n",
    "    print(random_sample_df[str(col)].sum())"
   ]
  },
  {
   "cell_type": "code",
   "execution_count": null,
   "id": "de3f005e",
   "metadata": {
    "ExecuteTime": {
     "end_time": "2023-11-03T02:35:35.423869Z",
     "start_time": "2023-11-03T02:35:35.394889Z"
    }
   },
   "outputs": [],
   "source": [
    "random_label_list = label_list[random_sample_df[[str(i) for i in range(0,28)]].sum(axis=0)!=0]\n",
    "random_label_list"
   ]
  },
  {
   "cell_type": "markdown",
   "id": "effe5de4",
   "metadata": {
    "ExecuteTime": {
     "end_time": "2023-06-28T02:51:05.826172Z",
     "start_time": "2023-06-28T02:51:05.809796Z"
    }
   },
   "source": [
    "## check concept dist"
   ]
  },
  {
   "cell_type": "code",
   "execution_count": null,
   "id": "66e72773",
   "metadata": {
    "ExecuteTime": {
     "end_time": "2023-10-10T12:38:36.259921Z",
     "start_time": "2023-10-10T12:38:36.187707Z"
    }
   },
   "outputs": [],
   "source": []
  },
  {
   "cell_type": "code",
   "execution_count": null,
   "id": "fa649175",
   "metadata": {
    "ExecuteTime": {
     "end_time": "2023-11-03T02:35:38.777903Z",
     "start_time": "2023-11-03T02:35:35.426163Z"
    },
    "scrolled": true
   },
   "outputs": [],
   "source": [
    "count_df_list = list()\n",
    "for name, target_df in concept_oid_dict.items():\n",
    "    count_df = pd.DataFrame(target_df.source.value_counts()).T.rename({'source':name})\n",
    "    count_df_list.append(count_df)\n",
    "    target_df.source.hist(label=name)\n",
    "    plt.legend()\n",
    "    plt.show()"
   ]
  },
  {
   "cell_type": "code",
   "execution_count": null,
   "id": "8924b1f2",
   "metadata": {
    "ExecuteTime": {
     "end_time": "2023-11-03T02:35:38.820576Z",
     "start_time": "2023-11-03T02:35:38.780304Z"
    }
   },
   "outputs": [],
   "source": [
    "pd.concat(count_df_list)"
   ]
  },
  {
   "cell_type": "markdown",
   "id": "cda7b9fc",
   "metadata": {},
   "source": [
    "# load model and dataset"
   ]
  },
  {
   "cell_type": "code",
   "execution_count": null,
   "id": "b6c8fc9c",
   "metadata": {
    "ExecuteTime": {
     "end_time": "2023-11-03T02:35:38.847265Z",
     "start_time": "2023-11-03T02:35:38.822679Z"
    }
   },
   "outputs": [],
   "source": [
    "from aitiautils.model_loader import ModelLoader\n",
    "import torch\n",
    "from torch.utils.data import DataLoader\n",
    "\n",
    "\n",
    "from captum.attr import LayerGradientXActivation, LayerIntegratedGradients\n",
    "\n",
    "from captum.concept import TCAV\n",
    "from captum.concept import Concept\n",
    "\n",
    "from captum.concept._utils.data_iterator import dataset_to_dataloader, CustomIterableDataset\n",
    "from captum.concept._utils.common import concepts_to_str"
   ]
  },
  {
   "cell_type": "code",
   "execution_count": null,
   "id": "64a8c613",
   "metadata": {
    "ExecuteTime": {
     "end_time": "2023-11-03T02:35:38.884151Z",
     "start_time": "2023-11-03T02:35:38.850952Z"
    }
   },
   "outputs": [],
   "source": [
    "def get_ecg(objectid):\n",
    "    import requests\n",
    "    res = requests.get(\"http://192.168.80.28:30081/ecgs\", params={\"objectId\": objectid})\n",
    "    ecg_json = res.json()\n",
    "    return ecg_json\n",
    "\n",
    "def get_ecg_tensor(objectid,dataset):\n",
    "    import numpy as np\n",
    "    import torch\n",
    "    ecg_json = get_ecg(objectid)\n",
    "    \n",
    "    prepro_ = dataset.preprocessing(ecg_json)[0]\n",
    "    x = prepro_\n",
    "    x = torch.from_numpy(x).float().unsqueeze(0)\n",
    "    \n",
    "    return x"
   ]
  },
  {
   "cell_type": "code",
   "execution_count": null,
   "id": "48bac0fe",
   "metadata": {
    "ExecuteTime": {
     "end_time": "2023-11-03T02:35:38.908125Z",
     "start_time": "2023-11-03T02:35:38.886404Z"
    }
   },
   "outputs": [],
   "source": [
    "class TCAV_dataset(torch.utils.data.Dataset):\n",
    "    def __init__(self,sample_df,model_dataset,device):\n",
    "        self.sample_df = sample_df.reset_index(drop=True)\n",
    "        self.model_dataset = model_dataset\n",
    "        self.sample_len = len(sample_df)\n",
    "        self.success_id = None\n",
    "    \n",
    "    def __getitem__(self,index):\n",
    "        objectid = self.sample_df.loc[index].objectid\n",
    "        try:\n",
    "            output = get_ecg_tensor(objectid,self.model_dataset).squeeze()\n",
    "            self.success_id = objectid\n",
    "        except:\n",
    "            print(f'error {objectid}->{self.success_id}')\n",
    "            output = get_ecg_tensor(self.success_id,self.model_dataset).squeeze()\n",
    "        return output.to(device)\n",
    "    \n",
    "    def __len__(self):\n",
    "        return self.sample_len"
   ]
  },
  {
   "cell_type": "code",
   "execution_count": null,
   "id": "b472901e",
   "metadata": {
    "ExecuteTime": {
     "end_time": "2023-11-03T02:35:38.929160Z",
     "start_time": "2023-11-03T02:35:38.910423Z"
    }
   },
   "outputs": [],
   "source": [
    "device = \"cuda:3\"\n",
    "checkpoint_path = \"/bfai/nfs_export/workspace/share/result/jjh/models/lvsd/checkpoint.pth\"\n",
    "# checkpoint_path = \"/bfai/nfs_export/workspace/share/result/series/lvsd/lvsd2-220916_163905/checkpoint.pth\""
   ]
  },
  {
   "cell_type": "code",
   "execution_count": null,
   "id": "d2a8e5ff",
   "metadata": {
    "ExecuteTime": {
     "end_time": "2023-11-03T02:35:39.598322Z",
     "start_time": "2023-11-03T02:35:38.931251Z"
    }
   },
   "outputs": [],
   "source": [
    "label_df = pd.read_csv(\"/bfai/nfs_export/workspace/share/result/bytaklee/test/lvsd2-220916_163905/train_probability.csv\")\n",
    "# label_df = pd.read_csv(\"/bfai/nfs_export/workspace/share/result/jjh/test/hyperkalemia-230404_080756/train_probability.csv\")"
   ]
  },
  {
   "cell_type": "code",
   "execution_count": null,
   "id": "35619087",
   "metadata": {
    "ExecuteTime": {
     "end_time": "2023-11-03T02:35:41.561807Z",
     "start_time": "2023-11-03T02:35:39.600772Z"
    }
   },
   "outputs": [],
   "source": [
    "print(checkpoint_path)\n",
    "loader = ModelLoader(checkpoint_path,device=device)\n",
    "classifier = loader.get_network()\n",
    "classifier.eval()\n",
    "dataset_cls = loader.get_dataset()\n"
   ]
  },
  {
   "cell_type": "code",
   "execution_count": null,
   "id": "bd3b1a30",
   "metadata": {
    "ExecuteTime": {
     "end_time": "2023-11-03T02:35:41.586864Z",
     "start_time": "2023-11-03T02:35:41.564424Z"
    }
   },
   "outputs": [],
   "source": [
    "# import pickle\n",
    "# from aitiautils.calibration import Calibrator\n",
    "# calibrator = Calibrator(model_pickle=\"/bfai/nfs_export/workspace/share/result/jjh/models/lvsd/calib_model.pkl\")\n",
    "# output_calib = calibrator.transform(label_df,prob_col_name='1')\n",
    "# label_df['calib'] = output_calib"
   ]
  },
  {
   "cell_type": "code",
   "execution_count": null,
   "id": "b2fe6397",
   "metadata": {
    "ExecuteTime": {
     "end_time": "2023-11-03T02:35:58.958257Z",
     "start_time": "2023-11-03T02:35:41.589143Z"
    }
   },
   "outputs": [],
   "source": [
    "label_df_target = label_df[label_df['1']>0.5].sample(1000,random_state=random_seed)\n",
    "\n",
    "target_tensor_list = list()\n",
    "\n",
    "for oid in label_df_target.objectid:\n",
    "    try:\n",
    "        out = get_ecg_tensor(oid,dataset_cls)\n",
    "        target_tensor_list.append(out)\n",
    "    except:\n",
    "        pass\n",
    "    "
   ]
  },
  {
   "cell_type": "code",
   "execution_count": null,
   "id": "905ca91c",
   "metadata": {
    "ExecuteTime": {
     "end_time": "2023-11-03T02:35:59.029325Z",
     "start_time": "2023-11-03T02:35:58.967331Z"
    }
   },
   "outputs": [],
   "source": [
    "target_tensor = torch.stack(target_tensor_list).squeeze()\n",
    "target_tensor.shape"
   ]
  },
  {
   "cell_type": "markdown",
   "id": "68859848",
   "metadata": {},
   "source": [
    "# TCAV with captum"
   ]
  },
  {
   "cell_type": "code",
   "execution_count": null,
   "id": "3a9fdc30",
   "metadata": {
    "ExecuteTime": {
     "end_time": "2023-11-03T02:35:59.055859Z",
     "start_time": "2023-11-03T02:35:59.031629Z"
    }
   },
   "outputs": [],
   "source": [
    "from aitiautils.dot_dict import DotDict"
   ]
  },
  {
   "cell_type": "code",
   "execution_count": null,
   "id": "5e9c1714",
   "metadata": {
    "ExecuteTime": {
     "end_time": "2023-11-03T02:35:59.094326Z",
     "start_time": "2023-11-03T02:35:59.060260Z"
    }
   },
   "outputs": [],
   "source": [
    "tcav_concept_dict = dict()"
   ]
  },
  {
   "cell_type": "code",
   "execution_count": null,
   "id": "ecf2e449",
   "metadata": {
    "ExecuteTime": {
     "end_time": "2023-11-03T02:35:59.127088Z",
     "start_time": "2023-11-03T02:35:59.096645Z"
    }
   },
   "outputs": [],
   "source": [
    "for idx, (name,concept_df) in enumerate(concept_oid_dict.items()):\n",
    "    tcav_dataset = TCAV_dataset(concept_df,dataset_cls,device)\n",
    "    concept_iter = dataset_to_dataloader(tcav_dataset)\n",
    "    tcav_concept = Concept(idx,name,concept_iter)\n",
    "    tcav_concept_dict[name] = tcav_concept"
   ]
  },
  {
   "cell_type": "code",
   "execution_count": null,
   "id": "f5b9c318",
   "metadata": {
    "ExecuteTime": {
     "end_time": "2023-11-03T02:35:59.149084Z",
     "start_time": "2023-11-03T02:35:59.129103Z"
    }
   },
   "outputs": [],
   "source": [
    "tcav_concept_dict = DotDict(tcav_concept_dict)"
   ]
  },
  {
   "cell_type": "code",
   "execution_count": null,
   "id": "14c69912",
   "metadata": {
    "ExecuteTime": {
     "end_time": "2023-11-03T02:35:59.172892Z",
     "start_time": "2023-11-03T02:35:59.151321Z"
    }
   },
   "outputs": [],
   "source": [
    "tcav_concept_dict.keys()"
   ]
  },
  {
   "cell_type": "code",
   "execution_count": null,
   "id": "9690e1a7",
   "metadata": {
    "ExecuteTime": {
     "end_time": "2023-11-03T02:35:59.194663Z",
     "start_time": "2023-11-03T02:35:59.175053Z"
    }
   },
   "outputs": [],
   "source": [
    "# tcav_concept_dict.pop('right axis deviation')\n",
    "# tcav_concept_dict.pop('nonspecific intraventricular conduction disorder')\n",
    "# tcav_concept_dict.pop('prolonged qt interval')\n",
    "# tcav_concept_dict.pop('qwave abnormal')\n",
    "# tcav_concept_dict.pop('complete right bundle branch block, right bund...')\n",
    "# tcav_concept_dict.pop('left axis deviation')\n",
    "# tcav_concept_dict.pop('atrial fibrillation+atrial flutter')\n",
    "# tcav_concept_dict.pop('t wave abnormal + t wave inversion ')"
   ]
  },
  {
   "cell_type": "code",
   "execution_count": null,
   "id": "e8d1b640",
   "metadata": {
    "ExecuteTime": {
     "end_time": "2023-11-03T02:35:59.215420Z",
     "start_time": "2023-11-03T02:35:59.196874Z"
    }
   },
   "outputs": [],
   "source": [
    "# for tmp in classifier.named_parameters():\n",
    "#     print(tmp[0])"
   ]
  },
  {
   "cell_type": "code",
   "execution_count": null,
   "id": "90749329",
   "metadata": {
    "ExecuteTime": {
     "end_time": "2023-11-03T02:35:59.238494Z",
     "start_time": "2023-11-03T02:35:59.217435Z"
    }
   },
   "outputs": [],
   "source": [
    "layers = [\"blk1d.0.2.conv2\",\"blk1d.1.2.conv2\",\"blk1d.2.2.conv2\",\"blk1d.3.2.conv2\"]\n",
    "tcav_concept_dict.keys()"
   ]
  },
  {
   "cell_type": "code",
   "execution_count": null,
   "id": "aefbc545",
   "metadata": {
    "ExecuteTime": {
     "end_time": "2023-11-03T02:35:59.266035Z",
     "start_time": "2023-11-03T02:35:59.240513Z"
    }
   },
   "outputs": [],
   "source": [
    "mytcav = TCAV(model=classifier,layers=layers,\n",
    "              layer_attr_method =LayerIntegratedGradients(classifier, None, multiply_by_inputs=False) ) #"
   ]
  },
  {
   "cell_type": "code",
   "execution_count": null,
   "id": "fa43a4d5",
   "metadata": {
    "ExecuteTime": {
     "end_time": "2023-11-03T02:35:59.289122Z",
     "start_time": "2023-11-03T02:35:59.268192Z"
    }
   },
   "outputs": [],
   "source": [
    "print(tcav_concept_dict.keys())\n",
    "list(tcav_concept_dict.values())\n",
    "experimental_set_rand = [list(tcav_concept_dict.values())]"
   ]
  },
  {
   "cell_type": "code",
   "execution_count": null,
   "id": "53fa2b69",
   "metadata": {
    "ExecuteTime": {
     "end_time": "2023-11-03T02:35:59.310057Z",
     "start_time": "2023-11-03T02:35:59.291301Z"
    }
   },
   "outputs": [],
   "source": [
    "# experimental_set_rand = [[target,list(tcav_concept_dict.values())[-1]] for target in list(tcav_concept_dict.values())]\n",
    "# experimental_set_rand = experimental_set_rand[:1]"
   ]
  },
  {
   "cell_type": "code",
   "execution_count": null,
   "id": "9e48554a",
   "metadata": {
    "ExecuteTime": {
     "end_time": "2023-11-03T02:35:59.339560Z",
     "start_time": "2023-11-03T02:35:59.312174Z"
    }
   },
   "outputs": [],
   "source": [
    "#experimental_set_rand = [[tcav_concept_dict['t wave abnormal'],tcav_concept_dict['random_concept_0']]]"
   ]
  },
  {
   "cell_type": "code",
   "execution_count": null,
   "id": "4586c0c5",
   "metadata": {
    "ExecuteTime": {
     "end_time": "2023-11-03T02:59:43.468327Z",
     "start_time": "2023-11-03T02:54:20.859170Z"
    }
   },
   "outputs": [],
   "source": [
    "tcav_scores_w_random = mytcav.interpret(inputs=target_tensor, #.to(device)\n",
    "                                        experimental_sets=experimental_set_rand,\n",
    "                                        target=1,\n",
    "                                        n_steps=5)"
   ]
  },
  {
   "cell_type": "code",
   "execution_count": null,
   "id": "5fb41eeb",
   "metadata": {
    "ExecuteTime": {
     "end_time": "2023-10-18T05:38:20.444504Z",
     "start_time": "2023-10-18T05:38:20.370636Z"
    }
   },
   "outputs": [],
   "source": []
  },
  {
   "cell_type": "code",
   "execution_count": null,
   "id": "1c99afd4",
   "metadata": {
    "ExecuteTime": {
     "end_time": "2023-11-03T02:41:57.719108Z",
     "start_time": "2023-11-03T02:41:57.719081Z"
    }
   },
   "outputs": [],
   "source": [
    "def format_float(f):\n",
    "    return float('{:.3f}'.format(f) if abs(f) >= 0.0005 else '{:.3e}'.format(f))\n",
    "\n",
    "def plot_tcav_scores(experimental_sets, tcav_scores,layer_list):\n",
    "    fig, ax = plt.subplots(1, len(experimental_sets), figsize = (25, 7))\n",
    "\n",
    "    barWidth = 1 / (len(experimental_sets[0]) + 1)\n",
    "\n",
    "    for idx_es, concepts in enumerate(experimental_sets):\n",
    "\n",
    "        concepts = experimental_sets[idx_es]\n",
    "        concepts_key = concepts_to_str(concepts)\n",
    "\n",
    "        pos = [np.arange(len(layer_list))]\n",
    "        for i in range(1, len(concepts)):\n",
    "            pos.append([(x + barWidth) for x in pos[i-1]])\n",
    "        _ax = (ax[idx_es] if len(experimental_sets) > 1 else ax)\n",
    "        for i in range(len(concepts)):\n",
    "            val = [format_float(scores['sign_count'][i]) for layer, scores in tcav_scores[concepts_key].items()]\n",
    "            direction = [format_float(scores['magnitude'][i]) for layer, scores in tcav_scores[concepts_key].items()]\n",
    "            print(direction)\n",
    "            _ax.bar(pos[i], val, width=barWidth, edgecolor='white', label=concepts[i].name)\n",
    "\n",
    "        # Add xticks on the middle of the group bars\n",
    "        _ax.set_xlabel('Set {}'.format(str(idx_es)), fontweight='bold', fontsize=16)\n",
    "        _ax.set_xticks([r + 0.3 * barWidth for r in range(len(layers))])\n",
    "        _ax.set_xticklabels(layers, fontsize=16)\n",
    "\n",
    "        # Create legend & Show graphic\n",
    "        _ax.legend(fontsize=16,bbox_to_anchor=(1.3, 1),loc='upper right') #ax.legend(loc='center left', bbox_to_anchor=(1, 0.5))\n",
    "\n",
    "    plt.show()"
   ]
  },
  {
   "cell_type": "code",
   "execution_count": null,
   "id": "51c4d39c",
   "metadata": {
    "ExecuteTime": {
     "end_time": "2023-11-03T02:41:57.721539Z",
     "start_time": "2023-11-03T02:41:57.721518Z"
    }
   },
   "outputs": [],
   "source": [
    "#plot_tcav_scores(experimental_set_rand, tcav_scores_w_random,layers)"
   ]
  },
  {
   "cell_type": "code",
   "execution_count": null,
   "id": "3453c203",
   "metadata": {
    "ExecuteTime": {
     "end_time": "2023-11-03T02:41:57.723411Z",
     "start_time": "2023-11-03T02:41:57.723390Z"
    }
   },
   "outputs": [],
   "source": [
    "# tcav_scores_w_random['0-1-2-3-4-5-6-7-8-9-10-11-12-13-14-15-16-17-18']"
   ]
  },
  {
   "cell_type": "code",
   "execution_count": null,
   "id": "ce86df7f",
   "metadata": {
    "ExecuteTime": {
     "end_time": "2023-11-03T02:41:57.725175Z",
     "start_time": "2023-11-03T02:41:57.725154Z"
    }
   },
   "outputs": [],
   "source": [
    "# for layer, output_dict in tcav_scores_w_random['0-1-2-3-4-5-6-7-8-9-10-11-12-13-14-15-16-17-18'].items():\n",
    "#     print(layer)\n",
    "#     print(pd.DataFrame(output_dict)) #index=list(label_list[selected_idx_list])+['random'])"
   ]
  },
  {
   "cell_type": "markdown",
   "id": "c6186cc2",
   "metadata": {
    "ExecuteTime": {
     "end_time": "2023-08-04T04:49:05.567427Z",
     "start_time": "2023-08-04T04:49:05.557212Z"
    }
   },
   "source": [
    "## statistical signification test"
   ]
  },
  {
   "cell_type": "code",
   "execution_count": null,
   "id": "a014d238",
   "metadata": {
    "ExecuteTime": {
     "end_time": "2023-11-03T02:41:57.727112Z",
     "start_time": "2023-11-03T02:41:57.727092Z"
    }
   },
   "outputs": [],
   "source": [
    "tcav_concept_dict.keys()"
   ]
  },
  {
   "cell_type": "code",
   "execution_count": null,
   "id": "230e52f8",
   "metadata": {
    "ExecuteTime": {
     "end_time": "2023-11-03T02:41:57.728963Z",
     "start_time": "2023-11-03T02:41:57.728942Z"
    }
   },
   "outputs": [],
   "source": [
    "exp_sets_for_each = list()\n",
    "\n",
    "for concept_name in tcav_concept_dict.keys():\n",
    "    \n",
    "    if \"random_concept\" in concept_name:\n",
    "        continue\n",
    "    \n",
    "    experimental_sets = list()\n",
    "    target_concept = tcav_concept_dict[concept_name]\n",
    "    random_concepts = [tcav_concept_dict[f\"random_concept_{i}\"] for i in range(0, random_concept_n)]\n",
    "\n",
    "\n",
    "    experimental_sets.extend([[target_concept, random_concept] for random_concept in random_concepts])\n",
    "    \n",
    "    exp_sets_for_each.append(experimental_sets)\n",
    "#     experimental_sets.append([random_0_concept, random_1_concept])\n",
    "#     experimental_sets.extend([[random_0_concept, random_concept] for random_concept in random_concepts])\n",
    "\n"
   ]
  },
  {
   "cell_type": "code",
   "execution_count": null,
   "id": "06cf4540",
   "metadata": {
    "ExecuteTime": {
     "end_time": "2023-11-03T02:41:57.730724Z",
     "start_time": "2023-11-03T02:41:57.730706Z"
    }
   },
   "outputs": [],
   "source": [
    "block_tcav_result_list = list()\n",
    "block_tcav_random_score_list = list()\n",
    "score_type = \"sign_count\" #'magnitude'\n",
    "for block_n in [0,1,2,3]:\n",
    "    target_layer = f'blk1d.{block_n}.2.conv2'\n",
    "    \n",
    "    p_val_out_list = list()\n",
    "    random_score_each_block=list()\n",
    "    for target_exp_set in exp_sets_for_each:\n",
    "        out = get_confidnece_plot(mytcav,target_exp_set,target_layer,score_type,target_tensor,device,label_name=target_exp_set[0][0].name)\n",
    "        p_val_out_list.append(out)\n",
    "        random_score_each_block.append(out[-1])\n",
    "\n",
    "\n",
    "    name_list = [target_exp_set[0][0].name for target_exp_set in exp_sets_for_each]\n",
    "    #name_list.append('Random control')\n",
    "    mean_list = [out[1][0] for out in p_val_out_list]\n",
    "    h_list = [out[1][1] for out in p_val_out_list]\n",
    "    block_tcav_result_list.append([mean_list,h_list])\n",
    "    block_tcav_random_score_list.append(random_score_each_block)\n",
    "    \n",
    "# mean_list.append(out[2][0])\n",
    "# h_list.append(out[2][1])\n",
    "\n",
    "\n"
   ]
  },
  {
   "cell_type": "code",
   "execution_count": null,
   "id": "162a8cb0",
   "metadata": {
    "ExecuteTime": {
     "end_time": "2023-11-03T02:41:57.732280Z",
     "start_time": "2023-11-03T02:41:57.732262Z"
    }
   },
   "outputs": [],
   "source": [
    "from itertools import chain\n",
    "block_tcav_radom_result_list = [mean_confidence_interval(list(chain(*block_tcav_random_score_list[i]))) for i in  [0,1,2,3]]"
   ]
  },
  {
   "cell_type": "code",
   "execution_count": null,
   "id": "89569c6f",
   "metadata": {
    "ExecuteTime": {
     "end_time": "2023-11-03T02:41:57.733710Z",
     "start_time": "2023-11-03T02:41:57.733693Z"
    }
   },
   "outputs": [],
   "source": [
    "block_tcav_radom_result_list#[0][0]"
   ]
  },
  {
   "cell_type": "code",
   "execution_count": null,
   "id": "950a155d",
   "metadata": {
    "ExecuteTime": {
     "end_time": "2023-10-18T08:20:06.515998Z",
     "start_time": "2023-10-18T08:20:06.472517Z"
    }
   },
   "outputs": [],
   "source": [
    "import matplotlib.pyplot as plt\n",
    "import numpy as np\n",
    "import matplotlib\n",
    "\n",
    "def draw_heatmap(matrix,ci_matrix=None, row_names=None, col_names=None, cmap='bwr', cell_width=1, cell_height=1, vmin=None, vmax=None):\n",
    "    \"\"\"\n",
    "    Draw a heatmap for a given matrix using the specified colormap.\n",
    "    \n",
    "    Parameters:\n",
    "    - matrix (list of lists or numpy array): The input N x M matrix.\n",
    "    - row_names (list of str, optional): Names of rows.\n",
    "    - col_names (list of str, optional): Names of columns.\n",
    "    - cmap (str, optional): The colormap to use. Default is 'bwr' (blue-white-red).\n",
    "    - cell_width (float, optional): Width of each cell in the heatmap. Default is 1.\n",
    "    - cell_height (float, optional): Height of each cell in the heatmap. Default is 1.\n",
    "    - vmin (float, optional): Minimum value for colormap scaling.\n",
    "    - vmax (float, optional): Maximum value for colormap scaling.\n",
    "    \n",
    "    Returns:\n",
    "    - None\n",
    "    \"\"\"\n",
    "    fig_width = len(matrix[0]) * cell_width\n",
    "    fig_height = len(matrix) * cell_height\n",
    "    \n",
    "    fig, ax = plt.subplots(figsize=(fig_width, fig_height))\n",
    "    \n",
    "    cax = ax.matshow(matrix, cmap=cmap, aspect='auto', vmin=vmin, vmax=vmax,alpha=0.8)\n",
    "    \n",
    "    # Display the intensity values in each cell\n",
    "    for i in range(len(matrix)):\n",
    "        for j in range(len(matrix[0])):\n",
    "            print_output = round(matrix[i][j],3)\n",
    "            if ci_matrix is not None:\n",
    "                ci = ci_matrix[i][j]\n",
    "                lower = round(print_output-(ci/2),3)\n",
    "                upper = round(print_output+(ci/2),3)\n",
    "                print_output = f\"{print_output:.3f}\\n({lower:.3f}-{upper:.3f})\"\n",
    "                \n",
    "            ax.text(j, i, str(print_output), ha='center', va='center', color='black',fontsize=12.5)\n",
    "    \n",
    "    # Set row and column names\n",
    "    if row_names:\n",
    "        ax.set_yticks(np.arange(len(row_names)))\n",
    "        ax.set_yticklabels(row_names)\n",
    "    if col_names:\n",
    "        ax.set_xticks(np.arange(len(col_names)))\n",
    "        ax.set_xticklabels(col_names, rotation=45, ha='right')\n",
    "        ax.xaxis.set_ticks_position('bottom')\n",
    "    \n",
    "    plt.colorbar(cax)\n",
    "    plt.show()\n",
    "    return fig\n"
   ]
  },
  {
   "cell_type": "code",
   "execution_count": null,
   "id": "3c10ead9",
   "metadata": {
    "ExecuteTime": {
     "end_time": "2024-01-22T08:57:10.679152Z",
     "start_time": "2024-01-22T08:57:10.614084Z"
    }
   },
   "outputs": [],
   "source": [
    "reindex_list = [6,0,1,5,7,4,8,3,2,-1]\n",
    "\n",
    "block_tav_score_list =np.array([\n",
    "    block_tcav_result_list[0][0]+[block_tcav_radom_result_list[0][0]],\n",
    "    block_tcav_result_list[1][0]+[block_tcav_radom_result_list[1][0]],\n",
    "    block_tcav_result_list[2][0]+[block_tcav_radom_result_list[2][0]],\n",
    "    block_tcav_result_list[3][0]+[block_tcav_radom_result_list[3][0]]])\n",
    "\n",
    "block_tav_score_list=block_tav_score_list[:,reindex_list]\n",
    "\n",
    "\n",
    "block_tav_ci_list =np.array([\n",
    "    block_tcav_result_list[0][1]+[block_tcav_radom_result_list[0][1]],\n",
    "    block_tcav_result_list[1][1]+[block_tcav_radom_result_list[1][1]],\n",
    "    block_tcav_result_list[2][1]+[block_tcav_radom_result_list[2][1]],\n",
    "    block_tcav_result_list[3][1]+[block_tcav_radom_result_list[3][1]]])\n",
    "block_tav_ci_list = block_tav_ci_list[:,reindex_list]"
   ]
  },
  {
   "cell_type": "code",
   "execution_count": null,
   "id": "cba6a932",
   "metadata": {
    "ExecuteTime": {
     "end_time": "2024-01-22T08:57:05.256173Z",
     "start_time": "2024-01-22T08:57:05.197208Z"
    }
   },
   "outputs": [],
   "source": [
    "matrix = block_tav_score_list\n",
    "rows = [\"Block1\", \"Block2\", \"Block3\",\"Block4\"]\n",
    "cols = list(np.array(list(tcav_concept_dict)[:])[reindex_list])\n",
    "fig = draw_heatmap(matrix,block_tav_ci_list, row_names=rows, col_names=cols, cell_width=2, cell_height=1, vmin=0.1, vmax=1,cmap='Reds')\n"
   ]
  },
  {
   "cell_type": "code",
   "execution_count": null,
   "id": "ec94476c",
   "metadata": {
    "ExecuteTime": {
     "end_time": "2023-10-18T08:20:10.341841Z",
     "start_time": "2023-10-18T08:20:09.770393Z"
    }
   },
   "outputs": [],
   "source": [
    "fig.savefig('TCAV_block_figure.png',dpi=250)"
   ]
  },
  {
   "cell_type": "code",
   "execution_count": null,
   "id": "958f3bf2",
   "metadata": {
    "ExecuteTime": {
     "end_time": "2023-10-18T06:55:16.024975Z",
     "start_time": "2023-10-18T06:55:16.006389Z"
    },
    "scrolled": false
   },
   "outputs": [],
   "source": [
    "# print(block_n)\n",
    "# plt.figure(figsize=(8,8),tight_layout=True)\n",
    "# plt.bar(\n",
    "#         name_list,\n",
    "#         mean_list,\n",
    "#         yerr=h_list,\n",
    "#         color=[\"gray\"],\n",
    "#         capsize=10,\n",
    "#     )\n",
    "# plt.ylim(0,1)\n",
    "# plt.xticks(rotation=90)\n",
    "# #plt.savefig(f'../../XAI_repo/notebooks/LVSD_TCAV_BLOCK{block_n}.png')"
   ]
  },
  {
   "cell_type": "code",
   "execution_count": null,
   "id": "26cb1eff",
   "metadata": {},
   "outputs": [],
   "source": []
  }
 ],
 "metadata": {
  "kernelspec": {
   "display_name": "solver1",
   "language": "python",
   "name": "solver1"
  },
  "language_info": {
   "codemirror_mode": {
    "name": "ipython",
    "version": 3
   },
   "file_extension": ".py",
   "mimetype": "text/x-python",
   "name": "python",
   "nbconvert_exporter": "python",
   "pygments_lexer": "ipython3",
   "version": "3.8.18"
  },
  "toc": {
   "base_numbering": 1,
   "nav_menu": {},
   "number_sections": true,
   "sideBar": true,
   "skip_h1_title": false,
   "title_cell": "Table of Contents",
   "title_sidebar": "Contents",
   "toc_cell": false,
   "toc_position": {
    "height": "calc(100% - 180px)",
    "left": "10px",
    "top": "150px",
    "width": "261.818px"
   },
   "toc_section_display": true,
   "toc_window_display": true
  }
 },
 "nbformat": 4,
 "nbformat_minor": 5
}
